{
  "nbformat": 4,
  "nbformat_minor": 0,
  "metadata": {
    "hide_input": false,
    "kernelspec": {
      "display_name": "Python 3",
      "language": "python",
      "name": "python3"
    },
    "language_info": {
      "codemirror_mode": {
        "name": "ipython",
        "version": 3
      },
      "file_extension": ".py",
      "mimetype": "text/x-python",
      "name": "python",
      "nbconvert_exporter": "python",
      "pygments_lexer": "ipython3",
      "version": "3.7.1"
    },
    "colab": {
      "name": "Assignment_Cast Study_Email Marketing.ipynb",
      "provenance": []
    }
  },
  "cells": [
    {
      "cell_type": "code",
      "metadata": {
        "id": "FZ0mfn9y_kSZ",
        "colab_type": "code",
        "colab": {}
      },
      "source": [
        "%matplotlib inline\n",
        "import pandas as pd\n",
        "import numpy as np\n",
        "import seaborn as sns\n",
        "from matplotlib import pyplot as plt\n",
        "from scipy import stats"
      ],
      "execution_count": 0,
      "outputs": []
    },
    {
      "cell_type": "code",
      "metadata": {
        "id": "xgKL6v8z_kSd",
        "colab_type": "code",
        "colab": {}
      },
      "source": [
        "PATH = 'https://raw.githubusercontent.com/nirupamaprv/Analyze-AB-test-Results/master/ab_edited.csv'\n",
        "experiment_data = pd.read_csv(PATH)"
      ],
      "execution_count": 0,
      "outputs": []
    },
    {
      "cell_type": "code",
      "metadata": {
        "id": "8SmZPKQ_FKSi",
        "colab_type": "code",
        "outputId": "25a7b7ee-16a1-44fb-cf60-8ecd08264f58",
        "colab": {
          "base_uri": "https://localhost:8080/",
          "height": 187
        }
      },
      "source": [
        "experiment_data.info()"
      ],
      "execution_count": 3,
      "outputs": [
        {
          "output_type": "stream",
          "text": [
            "<class 'pandas.core.frame.DataFrame'>\n",
            "RangeIndex: 290585 entries, 0 to 290584\n",
            "Data columns (total 5 columns):\n",
            "user_id         290585 non-null int64\n",
            "timestamp       290585 non-null object\n",
            "group           290585 non-null object\n",
            "landing_page    290585 non-null object\n",
            "converted       290585 non-null int64\n",
            "dtypes: int64(2), object(3)\n",
            "memory usage: 11.1+ MB\n"
          ],
          "name": "stdout"
        }
      ]
    },
    {
      "cell_type": "code",
      "metadata": {
        "id": "vvMV_PY9GCQn",
        "colab_type": "code",
        "outputId": "5e95218e-abd4-4f06-f1bb-619510859134",
        "colab": {
          "base_uri": "https://localhost:8080/",
          "height": 221
        }
      },
      "source": [
        "experiment_data['date'] = pd.DatetimeIndex(experiment_data['timestamp']).date\n",
        "print(experiment_data.date.unique())"
      ],
      "execution_count": 4,
      "outputs": [
        {
          "output_type": "stream",
          "text": [
            "[datetime.date(2017, 1, 21) datetime.date(2017, 1, 12)\n",
            " datetime.date(2017, 1, 11) datetime.date(2017, 1, 8)\n",
            " datetime.date(2017, 1, 10) datetime.date(2017, 1, 19)\n",
            " datetime.date(2017, 1, 17) datetime.date(2017, 1, 4)\n",
            " datetime.date(2017, 1, 15) datetime.date(2017, 1, 18)\n",
            " datetime.date(2017, 1, 9) datetime.date(2017, 1, 22)\n",
            " datetime.date(2017, 1, 24) datetime.date(2017, 1, 23)\n",
            " datetime.date(2017, 1, 20) datetime.date(2017, 1, 5)\n",
            " datetime.date(2017, 1, 6) datetime.date(2017, 1, 13)\n",
            " datetime.date(2017, 1, 7) datetime.date(2017, 1, 3)\n",
            " datetime.date(2017, 1, 2) datetime.date(2017, 1, 16)\n",
            " datetime.date(2017, 1, 14)]\n"
          ],
          "name": "stdout"
        }
      ]
    },
    {
      "cell_type": "code",
      "metadata": {
        "id": "REPXGM9U_kSg",
        "colab_type": "code",
        "outputId": "32e0b2c0-ec65-4d00-f9f5-af54fb2fedff",
        "colab": {
          "base_uri": "https://localhost:8080/",
          "height": 359
        }
      },
      "source": [
        "experiment_data.head(10)"
      ],
      "execution_count": 5,
      "outputs": [
        {
          "output_type": "execute_result",
          "data": {
            "text/html": [
              "<div>\n",
              "<style scoped>\n",
              "    .dataframe tbody tr th:only-of-type {\n",
              "        vertical-align: middle;\n",
              "    }\n",
              "\n",
              "    .dataframe tbody tr th {\n",
              "        vertical-align: top;\n",
              "    }\n",
              "\n",
              "    .dataframe thead th {\n",
              "        text-align: right;\n",
              "    }\n",
              "</style>\n",
              "<table border=\"1\" class=\"dataframe\">\n",
              "  <thead>\n",
              "    <tr style=\"text-align: right;\">\n",
              "      <th></th>\n",
              "      <th>user_id</th>\n",
              "      <th>timestamp</th>\n",
              "      <th>group</th>\n",
              "      <th>landing_page</th>\n",
              "      <th>converted</th>\n",
              "      <th>date</th>\n",
              "    </tr>\n",
              "  </thead>\n",
              "  <tbody>\n",
              "    <tr>\n",
              "      <th>0</th>\n",
              "      <td>851104</td>\n",
              "      <td>2017-01-21 22:11:48.556739</td>\n",
              "      <td>control</td>\n",
              "      <td>old_page</td>\n",
              "      <td>0</td>\n",
              "      <td>2017-01-21</td>\n",
              "    </tr>\n",
              "    <tr>\n",
              "      <th>1</th>\n",
              "      <td>804228</td>\n",
              "      <td>2017-01-12 08:01:45.159739</td>\n",
              "      <td>control</td>\n",
              "      <td>old_page</td>\n",
              "      <td>0</td>\n",
              "      <td>2017-01-12</td>\n",
              "    </tr>\n",
              "    <tr>\n",
              "      <th>2</th>\n",
              "      <td>661590</td>\n",
              "      <td>2017-01-11 16:55:06.154213</td>\n",
              "      <td>treatment</td>\n",
              "      <td>new_page</td>\n",
              "      <td>0</td>\n",
              "      <td>2017-01-11</td>\n",
              "    </tr>\n",
              "    <tr>\n",
              "      <th>3</th>\n",
              "      <td>853541</td>\n",
              "      <td>2017-01-08 18:28:03.143765</td>\n",
              "      <td>treatment</td>\n",
              "      <td>new_page</td>\n",
              "      <td>0</td>\n",
              "      <td>2017-01-08</td>\n",
              "    </tr>\n",
              "    <tr>\n",
              "      <th>4</th>\n",
              "      <td>864975</td>\n",
              "      <td>2017-01-21 01:52:26.210827</td>\n",
              "      <td>control</td>\n",
              "      <td>old_page</td>\n",
              "      <td>1</td>\n",
              "      <td>2017-01-21</td>\n",
              "    </tr>\n",
              "    <tr>\n",
              "      <th>5</th>\n",
              "      <td>936923</td>\n",
              "      <td>2017-01-10 15:20:49.083499</td>\n",
              "      <td>control</td>\n",
              "      <td>old_page</td>\n",
              "      <td>0</td>\n",
              "      <td>2017-01-10</td>\n",
              "    </tr>\n",
              "    <tr>\n",
              "      <th>6</th>\n",
              "      <td>679687</td>\n",
              "      <td>2017-01-19 03:26:46.940749</td>\n",
              "      <td>treatment</td>\n",
              "      <td>new_page</td>\n",
              "      <td>1</td>\n",
              "      <td>2017-01-19</td>\n",
              "    </tr>\n",
              "    <tr>\n",
              "      <th>7</th>\n",
              "      <td>719014</td>\n",
              "      <td>2017-01-17 01:48:29.539573</td>\n",
              "      <td>control</td>\n",
              "      <td>old_page</td>\n",
              "      <td>0</td>\n",
              "      <td>2017-01-17</td>\n",
              "    </tr>\n",
              "    <tr>\n",
              "      <th>8</th>\n",
              "      <td>817355</td>\n",
              "      <td>2017-01-04 17:58:08.979471</td>\n",
              "      <td>treatment</td>\n",
              "      <td>new_page</td>\n",
              "      <td>1</td>\n",
              "      <td>2017-01-04</td>\n",
              "    </tr>\n",
              "    <tr>\n",
              "      <th>9</th>\n",
              "      <td>839785</td>\n",
              "      <td>2017-01-15 18:11:06.610965</td>\n",
              "      <td>treatment</td>\n",
              "      <td>new_page</td>\n",
              "      <td>1</td>\n",
              "      <td>2017-01-15</td>\n",
              "    </tr>\n",
              "  </tbody>\n",
              "</table>\n",
              "</div>"
            ],
            "text/plain": [
              "   user_id                   timestamp  ... converted        date\n",
              "0   851104  2017-01-21 22:11:48.556739  ...         0  2017-01-21\n",
              "1   804228  2017-01-12 08:01:45.159739  ...         0  2017-01-12\n",
              "2   661590  2017-01-11 16:55:06.154213  ...         0  2017-01-11\n",
              "3   853541  2017-01-08 18:28:03.143765  ...         0  2017-01-08\n",
              "4   864975  2017-01-21 01:52:26.210827  ...         1  2017-01-21\n",
              "5   936923  2017-01-10 15:20:49.083499  ...         0  2017-01-10\n",
              "6   679687  2017-01-19 03:26:46.940749  ...         1  2017-01-19\n",
              "7   719014  2017-01-17 01:48:29.539573  ...         0  2017-01-17\n",
              "8   817355  2017-01-04 17:58:08.979471  ...         1  2017-01-04\n",
              "9   839785  2017-01-15 18:11:06.610965  ...         1  2017-01-15\n",
              "\n",
              "[10 rows x 6 columns]"
            ]
          },
          "metadata": {
            "tags": []
          },
          "execution_count": 5
        }
      ]
    },
    {
      "cell_type": "code",
      "metadata": {
        "id": "o5VU7Kda_kSp",
        "colab_type": "code",
        "outputId": "7bdc062a-28f4-4ea7-e5cc-ba7fd18036fa",
        "colab": {
          "base_uri": "https://localhost:8080/",
          "height": 136
        }
      },
      "source": [
        "# Size of each group\n",
        "print('test sample size:', len(experiment_data[experiment_data.group == 'treatment']))\n",
        "print('control sample size:', len(experiment_data[experiment_data.group == 'control']))\n",
        "print('test proportion:', experiment_data.converted.mean())\n",
        "print()\n",
        "\n",
        "# Signup rate of test and control?\n",
        "print('test signup rate:', experiment_data[experiment_data.group == 'treatment'].converted.mean())\n",
        "print('control signup rate:', experiment_data[experiment_data.group == 'control'].converted.mean())\n",
        "\n",
        "# Are the test and control groups significantly different?\n",
        "stats.ttest_ind(experiment_data[experiment_data.group == 'treatment'].converted,\n",
        "                experiment_data[experiment_data.group == 'control'].converted)"
      ],
      "execution_count": 6,
      "outputs": [
        {
          "output_type": "stream",
          "text": [
            "test sample size: 145311\n",
            "control sample size: 145274\n",
            "test proportion: 0.11959667567149027\n",
            "\n",
            "test signup rate: 0.11880724790277405\n",
            "control signup rate: 0.1203863045004612\n"
          ],
          "name": "stdout"
        },
        {
          "output_type": "execute_result",
          "data": {
            "text/plain": [
              "Ttest_indResult(statistic=-1.3116069027036805, pvalue=0.18965383906859376)"
            ]
          },
          "metadata": {
            "tags": []
          },
          "execution_count": 6
        }
      ]
    },
    {
      "cell_type": "code",
      "metadata": {
        "id": "BYCBSmCz_kSw",
        "colab_type": "code",
        "outputId": "46d82783-8fb7-4f19-9899-b501c9161220",
        "colab": {
          "base_uri": "https://localhost:8080/",
          "height": 703
        }
      },
      "source": [
        "fig = experiment_data[experiment_data.group == 'treatment'][\n",
        "    ['date', 'converted']].groupby('date').mean().plot()\n",
        "experiment_data[experiment_data.group == 'control'][\n",
        "    ['date', 'converted']].groupby('date').mean().plot(ax=fig)\n",
        "\n",
        "plt.legend(['treatment','control'])\n",
        "plt.title('Comparing Conversion Rates by Treatment Date')\n",
        "plt.show()\n",
        "\n",
        "\n",
        "# Generate a test statistic comparing test and control on treatment date\n",
        "print('T-Test Results by Date')\n",
        "\n",
        "for day in experiment_data.date.unique():\n",
        "    dated_data = experiment_data[experiment_data.date == day]\n",
        "    print(stats.ttest_ind(dated_data[dated_data.group == 'treatment'].converted,\n",
        "                          dated_data[dated_data.group == 'control'].converted))"
      ],
      "execution_count": 8,
      "outputs": [
        {
          "output_type": "display_data",
          "data": {
            "image/png": "[encoded data removed]",
            "text/plain": [
              "<Figure size 432x288 with 1 Axes>"
            ]
          },
          "metadata": {
            "tags": []
          }
        },
        {
          "output_type": "stream",
          "text": [
            "T-Test Results by Date\n",
            "Ttest_indResult(statistic=-1.8123288054674913, pvalue=0.0699579338988825)\n",
            "Ttest_indResult(statistic=0.05182821974845549, pvalue=0.9586663564605943)\n",
            "Ttest_indResult(statistic=-0.6795024407954999, pvalue=0.49683133482307695)\n",
            "Ttest_indResult(statistic=0.33111903181744556, pvalue=0.7405597598504309)\n",
            "Ttest_indResult(statistic=2.3999515991310387, pvalue=0.01641085244784032)\n",
            "Ttest_indResult(statistic=-0.4836129647924235, pvalue=0.628668638020595)\n",
            "Ttest_indResult(statistic=0.7611804663738991, pvalue=0.446562930057432)\n",
            "Ttest_indResult(statistic=-0.9315635899845935, pvalue=0.3515792521983202)\n",
            "Ttest_indResult(statistic=-1.261388402374626, pvalue=0.20719113309271808)\n",
            "Ttest_indResult(statistic=-0.0026642818202597274, pvalue=0.9978742538059032)\n",
            "Ttest_indResult(statistic=-0.28071255594768935, pvalue=0.7789352633524722)\n",
            "Ttest_indResult(statistic=-0.2056136446252576, pvalue=0.837095874040602)\n",
            "Ttest_indResult(statistic=0.4909032980527966, pvalue=0.6235093367111435)\n",
            "Ttest_indResult(statistic=-0.8094922831773846, pvalue=0.41824647028626705)\n",
            "Ttest_indResult(statistic=0.4369071658956722, pvalue=0.6621858156795764)\n",
            "Ttest_indResult(statistic=-1.4468255388280735, pvalue=0.14797003344175097)\n",
            "Ttest_indResult(statistic=1.445201350915974, pvalue=0.14842480715695958)\n",
            "Ttest_indResult(statistic=-1.0178087858982594, pvalue=0.3087876929639064)\n",
            "Ttest_indResult(statistic=-0.8500557494800433, pvalue=0.3953094968293003)\n",
            "Ttest_indResult(statistic=-0.005102928348269819, pvalue=0.9959285470042827)\n",
            "Ttest_indResult(statistic=-0.6557398855583756, pvalue=0.5120179205036728)\n",
            "Ttest_indResult(statistic=-0.4678178596106672, pvalue=0.6399226098635871)\n",
            "Ttest_indResult(statistic=-1.311670708102873, pvalue=0.18965417024438827)\n"
          ],
          "name": "stdout"
        }
      ]
    },
    {
      "cell_type": "markdown",
      "metadata": {
        "id": "2HtIT9_IGFAN",
        "colab_type": "text"
      },
      "source": [
        "There seems to be no significant difference"
      ]
    }
  ]
}